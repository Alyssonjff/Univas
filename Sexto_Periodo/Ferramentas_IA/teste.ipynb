{
 "cells": [
  {
   "cell_type": "code",
   "execution_count": 60,
   "metadata": {},
   "outputs": [
    {
     "name": "stdout",
     "output_type": "stream",
     "text": [
      "Defaulting to user installation because normal site-packages is not writeable\n",
      "Requirement already satisfied: yolov5 in c:\\users\\alysson\\appdata\\local\\packages\\pythonsoftwarefoundation.python.3.12_qbz5n2kfra8p0\\localcache\\local-packages\\python312\\site-packages (7.0.14)\n",
      "Requirement already satisfied: opencv-python-headless in c:\\users\\alysson\\appdata\\local\\packages\\pythonsoftwarefoundation.python.3.12_qbz5n2kfra8p0\\localcache\\local-packages\\python312\\site-packages (4.10.0.84)\n",
      "Requirement already satisfied: numpy in c:\\users\\alysson\\appdata\\local\\packages\\pythonsoftwarefoundation.python.3.12_qbz5n2kfra8p0\\localcache\\local-packages\\python312\\site-packages (1.26.4)\n",
      "Requirement already satisfied: gitpython>=3.1.30 in c:\\users\\alysson\\appdata\\local\\packages\\pythonsoftwarefoundation.python.3.12_qbz5n2kfra8p0\\localcache\\local-packages\\python312\\site-packages (from yolov5) (3.1.43)\n",
      "Requirement already satisfied: matplotlib>=3.3 in c:\\users\\alysson\\appdata\\local\\packages\\pythonsoftwarefoundation.python.3.12_qbz5n2kfra8p0\\localcache\\local-packages\\python312\\site-packages (from yolov5) (3.9.3)\n",
      "Requirement already satisfied: opencv-python>=4.1.1 in c:\\users\\alysson\\appdata\\local\\packages\\pythonsoftwarefoundation.python.3.12_qbz5n2kfra8p0\\localcache\\local-packages\\python312\\site-packages (from yolov5) (4.9.0.80)\n",
      "Requirement already satisfied: Pillow>=7.1.2 in c:\\users\\alysson\\appdata\\local\\packages\\pythonsoftwarefoundation.python.3.12_qbz5n2kfra8p0\\localcache\\local-packages\\python312\\site-packages (from yolov5) (11.0.0)\n",
      "Requirement already satisfied: psutil in c:\\users\\alysson\\appdata\\local\\packages\\pythonsoftwarefoundation.python.3.12_qbz5n2kfra8p0\\localcache\\local-packages\\python312\\site-packages (from yolov5) (6.1.0)\n",
      "Requirement already satisfied: PyYAML>=5.3.1 in c:\\users\\alysson\\appdata\\local\\packages\\pythonsoftwarefoundation.python.3.12_qbz5n2kfra8p0\\localcache\\local-packages\\python312\\site-packages (from yolov5) (6.0.2)\n",
      "Requirement already satisfied: requests>=2.23.0 in c:\\users\\alysson\\appdata\\local\\packages\\pythonsoftwarefoundation.python.3.12_qbz5n2kfra8p0\\localcache\\local-packages\\python312\\site-packages (from yolov5) (2.32.3)\n",
      "Requirement already satisfied: scipy>=1.4.1 in c:\\users\\alysson\\appdata\\local\\packages\\pythonsoftwarefoundation.python.3.12_qbz5n2kfra8p0\\localcache\\local-packages\\python312\\site-packages (from yolov5) (1.14.1)\n",
      "Requirement already satisfied: thop>=0.1.1 in c:\\users\\alysson\\appdata\\local\\packages\\pythonsoftwarefoundation.python.3.12_qbz5n2kfra8p0\\localcache\\local-packages\\python312\\site-packages (from yolov5) (0.1.1.post2209072238)\n",
      "Requirement already satisfied: torch>=1.7.0 in c:\\users\\alysson\\appdata\\local\\packages\\pythonsoftwarefoundation.python.3.12_qbz5n2kfra8p0\\localcache\\local-packages\\python312\\site-packages (from yolov5) (2.5.1)\n",
      "Requirement already satisfied: torchvision>=0.8.1 in c:\\users\\alysson\\appdata\\local\\packages\\pythonsoftwarefoundation.python.3.12_qbz5n2kfra8p0\\localcache\\local-packages\\python312\\site-packages (from yolov5) (0.20.1)\n",
      "Requirement already satisfied: tqdm>=4.64.0 in c:\\users\\alysson\\appdata\\local\\packages\\pythonsoftwarefoundation.python.3.12_qbz5n2kfra8p0\\localcache\\local-packages\\python312\\site-packages (from yolov5) (4.67.1)\n",
      "Requirement already satisfied: ultralytics>=8.0.100 in c:\\users\\alysson\\appdata\\local\\packages\\pythonsoftwarefoundation.python.3.12_qbz5n2kfra8p0\\localcache\\local-packages\\python312\\site-packages (from yolov5) (8.3.44)\n",
      "Requirement already satisfied: tensorboard>=2.4.1 in c:\\users\\alysson\\appdata\\local\\packages\\pythonsoftwarefoundation.python.3.12_qbz5n2kfra8p0\\localcache\\local-packages\\python312\\site-packages (from yolov5) (2.18.0)\n",
      "Requirement already satisfied: pandas>=1.1.4 in c:\\users\\alysson\\appdata\\local\\packages\\pythonsoftwarefoundation.python.3.12_qbz5n2kfra8p0\\localcache\\local-packages\\python312\\site-packages (from yolov5) (2.2.3)\n",
      "Requirement already satisfied: seaborn>=0.11.0 in c:\\users\\alysson\\appdata\\local\\packages\\pythonsoftwarefoundation.python.3.12_qbz5n2kfra8p0\\localcache\\local-packages\\python312\\site-packages (from yolov5) (0.13.2)\n",
      "Requirement already satisfied: setuptools>=65.5.1 in c:\\users\\alysson\\appdata\\local\\packages\\pythonsoftwarefoundation.python.3.12_qbz5n2kfra8p0\\localcache\\local-packages\\python312\\site-packages (from yolov5) (75.6.0)\n",
      "Requirement already satisfied: fire in c:\\users\\alysson\\appdata\\local\\packages\\pythonsoftwarefoundation.python.3.12_qbz5n2kfra8p0\\localcache\\local-packages\\python312\\site-packages (from yolov5) (0.7.0)\n",
      "Requirement already satisfied: boto3>=1.19.1 in c:\\users\\alysson\\appdata\\local\\packages\\pythonsoftwarefoundation.python.3.12_qbz5n2kfra8p0\\localcache\\local-packages\\python312\\site-packages (from yolov5) (1.35.76)\n",
      "Requirement already satisfied: sahi>=0.11.10 in c:\\users\\alysson\\appdata\\local\\packages\\pythonsoftwarefoundation.python.3.12_qbz5n2kfra8p0\\localcache\\local-packages\\python312\\site-packages (from yolov5) (0.11.19)\n",
      "Requirement already satisfied: huggingface-hub<0.25.0,>=0.12.0 in c:\\users\\alysson\\appdata\\local\\packages\\pythonsoftwarefoundation.python.3.12_qbz5n2kfra8p0\\localcache\\local-packages\\python312\\site-packages (from yolov5) (0.24.7)\n",
      "Requirement already satisfied: roboflow>=0.2.29 in c:\\users\\alysson\\appdata\\local\\packages\\pythonsoftwarefoundation.python.3.12_qbz5n2kfra8p0\\localcache\\local-packages\\python312\\site-packages (from yolov5) (1.1.49)\n",
      "Requirement already satisfied: botocore<1.36.0,>=1.35.76 in c:\\users\\alysson\\appdata\\local\\packages\\pythonsoftwarefoundation.python.3.12_qbz5n2kfra8p0\\localcache\\local-packages\\python312\\site-packages (from boto3>=1.19.1->yolov5) (1.35.76)\n",
      "Requirement already satisfied: jmespath<2.0.0,>=0.7.1 in c:\\users\\alysson\\appdata\\local\\packages\\pythonsoftwarefoundation.python.3.12_qbz5n2kfra8p0\\localcache\\local-packages\\python312\\site-packages (from boto3>=1.19.1->yolov5) (1.0.1)\n",
      "Requirement already satisfied: s3transfer<0.11.0,>=0.10.0 in c:\\users\\alysson\\appdata\\local\\packages\\pythonsoftwarefoundation.python.3.12_qbz5n2kfra8p0\\localcache\\local-packages\\python312\\site-packages (from boto3>=1.19.1->yolov5) (0.10.4)\n",
      "Requirement already satisfied: gitdb<5,>=4.0.1 in c:\\users\\alysson\\appdata\\local\\packages\\pythonsoftwarefoundation.python.3.12_qbz5n2kfra8p0\\localcache\\local-packages\\python312\\site-packages (from gitpython>=3.1.30->yolov5) (4.0.11)\n",
      "Requirement already satisfied: filelock in c:\\users\\alysson\\appdata\\local\\packages\\pythonsoftwarefoundation.python.3.12_qbz5n2kfra8p0\\localcache\\local-packages\\python312\\site-packages (from huggingface-hub<0.25.0,>=0.12.0->yolov5) (3.16.1)\n",
      "Requirement already satisfied: fsspec>=2023.5.0 in c:\\users\\alysson\\appdata\\local\\packages\\pythonsoftwarefoundation.python.3.12_qbz5n2kfra8p0\\localcache\\local-packages\\python312\\site-packages (from huggingface-hub<0.25.0,>=0.12.0->yolov5) (2024.10.0)\n",
      "Requirement already satisfied: packaging>=20.9 in c:\\users\\alysson\\appdata\\local\\packages\\pythonsoftwarefoundation.python.3.12_qbz5n2kfra8p0\\localcache\\local-packages\\python312\\site-packages (from huggingface-hub<0.25.0,>=0.12.0->yolov5) (24.2)\n",
      "Requirement already satisfied: typing-extensions>=3.7.4.3 in c:\\users\\alysson\\appdata\\local\\packages\\pythonsoftwarefoundation.python.3.12_qbz5n2kfra8p0\\localcache\\local-packages\\python312\\site-packages (from huggingface-hub<0.25.0,>=0.12.0->yolov5) (4.12.2)\n",
      "Requirement already satisfied: contourpy>=1.0.1 in c:\\users\\alysson\\appdata\\local\\packages\\pythonsoftwarefoundation.python.3.12_qbz5n2kfra8p0\\localcache\\local-packages\\python312\\site-packages (from matplotlib>=3.3->yolov5) (1.3.1)\n",
      "Requirement already satisfied: cycler>=0.10 in c:\\users\\alysson\\appdata\\local\\packages\\pythonsoftwarefoundation.python.3.12_qbz5n2kfra8p0\\localcache\\local-packages\\python312\\site-packages (from matplotlib>=3.3->yolov5) (0.12.1)\n",
      "Requirement already satisfied: fonttools>=4.22.0 in c:\\users\\alysson\\appdata\\local\\packages\\pythonsoftwarefoundation.python.3.12_qbz5n2kfra8p0\\localcache\\local-packages\\python312\\site-packages (from matplotlib>=3.3->yolov5) (4.55.2)\n",
      "Requirement already satisfied: kiwisolver>=1.3.1 in c:\\users\\alysson\\appdata\\local\\packages\\pythonsoftwarefoundation.python.3.12_qbz5n2kfra8p0\\localcache\\local-packages\\python312\\site-packages (from matplotlib>=3.3->yolov5) (1.4.7)\n",
      "Requirement already satisfied: pyparsing>=2.3.1 in c:\\users\\alysson\\appdata\\local\\packages\\pythonsoftwarefoundation.python.3.12_qbz5n2kfra8p0\\localcache\\local-packages\\python312\\site-packages (from matplotlib>=3.3->yolov5) (3.2.0)\n",
      "Requirement already satisfied: python-dateutil>=2.7 in c:\\users\\alysson\\appdata\\local\\packages\\pythonsoftwarefoundation.python.3.12_qbz5n2kfra8p0\\localcache\\local-packages\\python312\\site-packages (from matplotlib>=3.3->yolov5) (2.9.0.post0)\n",
      "Requirement already satisfied: pytz>=2020.1 in c:\\users\\alysson\\appdata\\local\\packages\\pythonsoftwarefoundation.python.3.12_qbz5n2kfra8p0\\localcache\\local-packages\\python312\\site-packages (from pandas>=1.1.4->yolov5) (2024.2)\n",
      "Requirement already satisfied: tzdata>=2022.7 in c:\\users\\alysson\\appdata\\local\\packages\\pythonsoftwarefoundation.python.3.12_qbz5n2kfra8p0\\localcache\\local-packages\\python312\\site-packages (from pandas>=1.1.4->yolov5) (2024.2)\n",
      "Requirement already satisfied: charset-normalizer<4,>=2 in c:\\users\\alysson\\appdata\\local\\packages\\pythonsoftwarefoundation.python.3.12_qbz5n2kfra8p0\\localcache\\local-packages\\python312\\site-packages (from requests>=2.23.0->yolov5) (3.4.0)\n",
      "Requirement already satisfied: idna<4,>=2.5 in c:\\users\\alysson\\appdata\\local\\packages\\pythonsoftwarefoundation.python.3.12_qbz5n2kfra8p0\\localcache\\local-packages\\python312\\site-packages (from requests>=2.23.0->yolov5) (3.7)\n",
      "Requirement already satisfied: urllib3<3,>=1.21.1 in c:\\users\\alysson\\appdata\\local\\packages\\pythonsoftwarefoundation.python.3.12_qbz5n2kfra8p0\\localcache\\local-packages\\python312\\site-packages (from requests>=2.23.0->yolov5) (2.2.3)\n",
      "Requirement already satisfied: certifi>=2017.4.17 in c:\\users\\alysson\\appdata\\local\\packages\\pythonsoftwarefoundation.python.3.12_qbz5n2kfra8p0\\localcache\\local-packages\\python312\\site-packages (from requests>=2.23.0->yolov5) (2024.8.30)\n",
      "Requirement already satisfied: python-dotenv in c:\\users\\alysson\\appdata\\local\\packages\\pythonsoftwarefoundation.python.3.12_qbz5n2kfra8p0\\localcache\\local-packages\\python312\\site-packages (from roboflow>=0.2.29->yolov5) (1.0.1)\n",
      "Requirement already satisfied: six in c:\\users\\alysson\\appdata\\local\\packages\\pythonsoftwarefoundation.python.3.12_qbz5n2kfra8p0\\localcache\\local-packages\\python312\\site-packages (from roboflow>=0.2.29->yolov5) (1.17.0)\n",
      "Requirement already satisfied: requests-toolbelt in c:\\users\\alysson\\appdata\\local\\packages\\pythonsoftwarefoundation.python.3.12_qbz5n2kfra8p0\\localcache\\local-packages\\python312\\site-packages (from roboflow>=0.2.29->yolov5) (1.0.0)\n",
      "Requirement already satisfied: filetype in c:\\users\\alysson\\appdata\\local\\packages\\pythonsoftwarefoundation.python.3.12_qbz5n2kfra8p0\\localcache\\local-packages\\python312\\site-packages (from roboflow>=0.2.29->yolov5) (1.2.0)\n",
      "Requirement already satisfied: shapely>=1.8.0 in c:\\users\\alysson\\appdata\\local\\packages\\pythonsoftwarefoundation.python.3.12_qbz5n2kfra8p0\\localcache\\local-packages\\python312\\site-packages (from sahi>=0.11.10->yolov5) (2.0.6)\n",
      "Requirement already satisfied: pybboxes==0.1.6 in c:\\users\\alysson\\appdata\\local\\packages\\pythonsoftwarefoundation.python.3.12_qbz5n2kfra8p0\\localcache\\local-packages\\python312\\site-packages (from sahi>=0.11.10->yolov5) (0.1.6)\n",
      "Requirement already satisfied: terminaltables in c:\\users\\alysson\\appdata\\local\\packages\\pythonsoftwarefoundation.python.3.12_qbz5n2kfra8p0\\localcache\\local-packages\\python312\\site-packages (from sahi>=0.11.10->yolov5) (3.1.10)\n",
      "Requirement already satisfied: click in c:\\users\\alysson\\appdata\\local\\packages\\pythonsoftwarefoundation.python.3.12_qbz5n2kfra8p0\\localcache\\local-packages\\python312\\site-packages (from sahi>=0.11.10->yolov5) (8.1.7)\n",
      "Requirement already satisfied: absl-py>=0.4 in c:\\users\\alysson\\appdata\\local\\packages\\pythonsoftwarefoundation.python.3.12_qbz5n2kfra8p0\\localcache\\local-packages\\python312\\site-packages (from tensorboard>=2.4.1->yolov5) (2.1.0)\n",
      "Requirement already satisfied: grpcio>=1.48.2 in c:\\users\\alysson\\appdata\\local\\packages\\pythonsoftwarefoundation.python.3.12_qbz5n2kfra8p0\\localcache\\local-packages\\python312\\site-packages (from tensorboard>=2.4.1->yolov5) (1.68.1)\n",
      "Requirement already satisfied: markdown>=2.6.8 in c:\\users\\alysson\\appdata\\local\\packages\\pythonsoftwarefoundation.python.3.12_qbz5n2kfra8p0\\localcache\\local-packages\\python312\\site-packages (from tensorboard>=2.4.1->yolov5) (3.7)\n",
      "Requirement already satisfied: protobuf!=4.24.0,>=3.19.6 in c:\\users\\alysson\\appdata\\local\\packages\\pythonsoftwarefoundation.python.3.12_qbz5n2kfra8p0\\localcache\\local-packages\\python312\\site-packages (from tensorboard>=2.4.1->yolov5) (5.29.1)\n",
      "Requirement already satisfied: tensorboard-data-server<0.8.0,>=0.7.0 in c:\\users\\alysson\\appdata\\local\\packages\\pythonsoftwarefoundation.python.3.12_qbz5n2kfra8p0\\localcache\\local-packages\\python312\\site-packages (from tensorboard>=2.4.1->yolov5) (0.7.2)\n",
      "Requirement already satisfied: werkzeug>=1.0.1 in c:\\users\\alysson\\appdata\\local\\packages\\pythonsoftwarefoundation.python.3.12_qbz5n2kfra8p0\\localcache\\local-packages\\python312\\site-packages (from tensorboard>=2.4.1->yolov5) (3.1.3)\n",
      "Requirement already satisfied: networkx in c:\\users\\alysson\\appdata\\local\\packages\\pythonsoftwarefoundation.python.3.12_qbz5n2kfra8p0\\localcache\\local-packages\\python312\\site-packages (from torch>=1.7.0->yolov5) (3.4.2)\n",
      "Requirement already satisfied: jinja2 in c:\\users\\alysson\\appdata\\local\\packages\\pythonsoftwarefoundation.python.3.12_qbz5n2kfra8p0\\localcache\\local-packages\\python312\\site-packages (from torch>=1.7.0->yolov5) (3.1.4)\n",
      "Requirement already satisfied: sympy==1.13.1 in c:\\users\\alysson\\appdata\\local\\packages\\pythonsoftwarefoundation.python.3.12_qbz5n2kfra8p0\\localcache\\local-packages\\python312\\site-packages (from torch>=1.7.0->yolov5) (1.13.1)\n",
      "Requirement already satisfied: mpmath<1.4,>=1.1.0 in c:\\users\\alysson\\appdata\\local\\packages\\pythonsoftwarefoundation.python.3.12_qbz5n2kfra8p0\\localcache\\local-packages\\python312\\site-packages (from sympy==1.13.1->torch>=1.7.0->yolov5) (1.3.0)\n",
      "Requirement already satisfied: colorama in c:\\users\\alysson\\appdata\\local\\packages\\pythonsoftwarefoundation.python.3.12_qbz5n2kfra8p0\\localcache\\local-packages\\python312\\site-packages (from tqdm>=4.64.0->yolov5) (0.4.6)\n",
      "Requirement already satisfied: py-cpuinfo in c:\\users\\alysson\\appdata\\local\\packages\\pythonsoftwarefoundation.python.3.12_qbz5n2kfra8p0\\localcache\\local-packages\\python312\\site-packages (from ultralytics>=8.0.100->yolov5) (9.0.0)\n",
      "Requirement already satisfied: ultralytics-thop>=2.0.0 in c:\\users\\alysson\\appdata\\local\\packages\\pythonsoftwarefoundation.python.3.12_qbz5n2kfra8p0\\localcache\\local-packages\\python312\\site-packages (from ultralytics>=8.0.100->yolov5) (2.0.12)\n",
      "Requirement already satisfied: termcolor in c:\\users\\alysson\\appdata\\local\\packages\\pythonsoftwarefoundation.python.3.12_qbz5n2kfra8p0\\localcache\\local-packages\\python312\\site-packages (from fire->yolov5) (2.5.0)\n",
      "Requirement already satisfied: smmap<6,>=3.0.1 in c:\\users\\alysson\\appdata\\local\\packages\\pythonsoftwarefoundation.python.3.12_qbz5n2kfra8p0\\localcache\\local-packages\\python312\\site-packages (from gitdb<5,>=4.0.1->gitpython>=3.1.30->yolov5) (5.0.1)\n",
      "Requirement already satisfied: MarkupSafe>=2.1.1 in c:\\users\\alysson\\appdata\\local\\packages\\pythonsoftwarefoundation.python.3.12_qbz5n2kfra8p0\\localcache\\local-packages\\python312\\site-packages (from werkzeug>=1.0.1->tensorboard>=2.4.1->yolov5) (3.0.2)\n",
      "Note: you may need to restart the kernel to use updated packages.\n"
     ]
    }
   ],
   "source": [
    "pip install yolov5 opencv-python-headless numpy"
   ]
  },
  {
   "cell_type": "code",
   "execution_count": 61,
   "metadata": {},
   "outputs": [],
   "source": [
    "import yolov5\n",
    "import numpy as np\n",
    "import cv2"
   ]
  },
  {
   "cell_type": "code",
   "execution_count": 62,
   "metadata": {},
   "outputs": [
    {
     "name": "stderr",
     "output_type": "stream",
     "text": [
      "YOLOv5  2024-12-6 Python-3.12.8 torch-2.5.1+cpu CPU\n",
      "\n",
      "Fusing layers... \n",
      "Model summary: 212 layers, 20865057 parameters, 0 gradients\n",
      "Adding AutoShape... \n"
     ]
    }
   ],
   "source": [
    "model = yolov5.load('keremberke/yolov5m-valorant')"
   ]
  },
  {
   "cell_type": "code",
   "execution_count": 63,
   "metadata": {},
   "outputs": [],
   "source": [
    "model.conf = 0.25\n",
    "model.iou = 0.45"
   ]
  },
  {
   "cell_type": "markdown",
   "metadata": {},
   "source": [
    "https://github.com/ultralytics/yolov5/raw/master/data/images/bus.jpg\n",
    "https://github.com/ultralytics/yolov5/raw/master/data/images/car.jpg\n",
    "https://github.com/ultralytics/yolov5/raw/master/data/images/dog.jpg\n",
    "https://github.com/ultralytics/yolov5/raw/master/data/images/person.jpg\n",
    "https://github.com/ultralytics/yolov5/raw/master/data/images/zidane.jpg"
   ]
  },
  {
   "cell_type": "code",
   "execution_count": 64,
   "metadata": {},
   "outputs": [],
   "source": [
    "img = 'https://github.com/ultralytics/yolov5/raw/master/data/images/zidane.jpg'\n"
   ]
  },
  {
   "cell_type": "code",
   "execution_count": 65,
   "metadata": {},
   "outputs": [],
   "source": [
    "for i, im in enumerate(results.ims):\n",
    "    results.ims[i] = np.ascontiguousarray(im.copy(), dtype=np.uint8)"
   ]
  },
  {
   "cell_type": "code",
   "execution_count": 66,
   "metadata": {},
   "outputs": [
    {
     "name": "stderr",
     "output_type": "stream",
     "text": [
      "C:\\Users\\Alysson\\AppData\\Local\\Packages\\PythonSoftwareFoundation.Python.3.12_qbz5n2kfra8p0\\LocalCache\\local-packages\\Python312\\site-packages\\yolov5\\models\\common.py:709: FutureWarning: `torch.cuda.amp.autocast(args...)` is deprecated. Please use `torch.amp.autocast('cuda', args...)` instead.\n",
      "  with amp.autocast(autocast):\n"
     ]
    }
   ],
   "source": [
    "results = model(img)\n"
   ]
  },
  {
   "cell_type": "code",
   "execution_count": 58,
   "metadata": {},
   "outputs": [
    {
     "data": {
      "text/plain": [
       "[array([[[72, 48, 38],\n",
       "         [74, 50, 40],\n",
       "         [73, 51, 40],\n",
       "         ...,\n",
       "         [56, 21, 25],\n",
       "         [55, 19, 21],\n",
       "         [51, 15, 17]],\n",
       " \n",
       "        [[71, 47, 37],\n",
       "         [71, 47, 37],\n",
       "         [70, 48, 37],\n",
       "         ...,\n",
       "         [55, 20, 24],\n",
       "         [52, 16, 18],\n",
       "         [47, 11, 13]],\n",
       " \n",
       "        [[75, 51, 41],\n",
       "         [73, 49, 39],\n",
       "         [70, 48, 37],\n",
       "         ...,\n",
       "         [56, 20, 24],\n",
       "         [52, 16, 20],\n",
       "         [48, 12, 16]],\n",
       " \n",
       "        ...,\n",
       " \n",
       "        [[40, 43, 48],\n",
       "         [41, 44, 49],\n",
       "         [40, 43, 48],\n",
       "         ...,\n",
       "         [35, 49, 49],\n",
       "         [35, 49, 49],\n",
       "         [36, 50, 50]],\n",
       " \n",
       "        [[39, 42, 49],\n",
       "         [39, 42, 49],\n",
       "         [39, 42, 49],\n",
       "         ...,\n",
       "         [35, 49, 50],\n",
       "         [35, 49, 50],\n",
       "         [36, 50, 51]],\n",
       " \n",
       "        [[38, 41, 48],\n",
       "         [38, 41, 48],\n",
       "         [38, 41, 48],\n",
       "         ...,\n",
       "         [35, 49, 50],\n",
       "         [35, 49, 50],\n",
       "         [36, 50, 51]]], dtype=uint8)]"
      ]
     },
     "execution_count": 58,
     "metadata": {},
     "output_type": "execute_result"
    }
   ],
   "source": [
    "results.render()"
   ]
  },
  {
   "cell_type": "code",
   "execution_count": null,
   "metadata": {},
   "outputs": [],
   "source": [
    "for im in results.ims:\n",
    "    cv2.imwrite('output_image.jpg', im)\n",
    "    cv2.imshow('Processed Image', im)\n",
    "    cv2.waitKey(0)\n",
    "cv2.destroyAllWindows()"
   ]
  }
 ],
 "metadata": {
  "kernelspec": {
   "display_name": "Python 3",
   "language": "python",
   "name": "python3"
  },
  "language_info": {
   "codemirror_mode": {
    "name": "ipython",
    "version": 3
   },
   "file_extension": ".py",
   "mimetype": "text/x-python",
   "name": "python",
   "nbconvert_exporter": "python",
   "pygments_lexer": "ipython3",
   "version": "3.12.8"
  }
 },
 "nbformat": 4,
 "nbformat_minor": 2
}
